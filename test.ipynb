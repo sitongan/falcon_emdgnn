{
 "cells": [
  {
   "cell_type": "code",
   "execution_count": 1,
   "metadata": {},
   "outputs": [],
   "source": [
    "%load_ext autoreload\n",
    "%autoreload 2\n",
    "\n",
    "import torch\n",
    "import energyflow as ef\n",
    "import numpy as np\n",
    "from torch_geometric.data import DataLoader\n",
    "from torch_geometric.data import Data\n",
    "from dataset import  FalconDataset\n",
    "import os\n",
    "import matplotlib as mpl\n",
    "import matplotlib.pyplot as plt\n",
    "import torch.nn.functional as F\n",
    "\n",
    "from main import preprocess_emd\n",
    "from edgenet import EdgeNet"
   ]
  },
  {
   "cell_type": "code",
   "execution_count": 2,
   "metadata": {},
   "outputs": [],
   "source": [
    "dataset = FalconDataset('')"
   ]
  },
  {
   "cell_type": "code",
   "execution_count": 3,
   "metadata": {},
   "outputs": [],
   "source": [
    "kwargs = {'num_workers': 1, 'pin_memory': True} \n",
    "loader = DataLoader(dataset,\n",
    "        batch_size=256, shuffle=True, drop_last=True, **kwargs)"
   ]
  },
  {
   "cell_type": "code",
   "execution_count": 4,
   "metadata": {},
   "outputs": [],
   "source": [
    "data_h = next(iter(loader))"
   ]
  },
  {
   "cell_type": "code",
   "execution_count": 5,
   "metadata": {},
   "outputs": [
    {
     "data": {
      "text/plain": [
       "Batch(batch=[29248], edge_index=[2, 330262], x=[29248, 3])"
      ]
     },
     "execution_count": 5,
     "metadata": {},
     "output_type": "execute_result"
    }
   ],
   "source": [
    "data_h"
   ]
  },
  {
   "cell_type": "code",
   "execution_count": null,
   "metadata": {},
   "outputs": [],
   "source": []
  },
  {
   "cell_type": "code",
   "execution_count": 6,
   "metadata": {},
   "outputs": [],
   "source": [
    "device = torch.device('cuda:1')\n",
    "\n",
    "model = EdgeNet().to(device)\n",
    "checkpoint = torch.load(\"mnist_cnn.pt_old\", map_location='cpu')\n",
    "model.load_state_dict(checkpoint)\n",
    "del checkpoint\n",
    "torch.cuda.empty_cache()"
   ]
  },
  {
   "cell_type": "code",
   "execution_count": 7,
   "metadata": {},
   "outputs": [],
   "source": [
    "model.eval()\n",
    "losses = []\n",
    "with torch.no_grad():\n",
    "    for batch_idx, (data_h) in enumerate(loader):\n",
    "        if batch_idx < 9:\n",
    "            data = data_h.to(device)\n",
    "            output = model(data)\n",
    "\n",
    "            #if (batch_idx not in target_emds):\n",
    "            #    pixel_list = preprocess(data_h)\n",
    "            #    target_emds[batch_idx] = torch.from_numpy(ef.emd.emds(pixel_list, R=40.0)).float().to(device)\n",
    "            #target = target_emds[batch_idx]\n",
    "            nodes_list = preprocess_emd(data_h)\n",
    "            target = torch.from_numpy(ef.emd.emds(nodes_list, R=1.0)).float().to(device)\n",
    "            output_dist = torch.cdist(output, output, p=2.1)\n",
    "\n",
    "            loss = F.mse_loss(output_dist, target).detach().cpu()\n",
    "            losses.append(loss)"
   ]
  },
  {
   "cell_type": "code",
   "execution_count": 8,
   "metadata": {},
   "outputs": [
    {
     "data": {
      "text/plain": [
       "[tensor(545.3649),\n",
       " tensor(922.1333),\n",
       " tensor(6856.6699),\n",
       " tensor(3074.6614),\n",
       " tensor(4243.5122),\n",
       " tensor(10760.1875),\n",
       " tensor(2077.6597),\n",
       " tensor(5307.1074),\n",
       " tensor(10273.4189)]"
      ]
     },
     "execution_count": 8,
     "metadata": {},
     "output_type": "execute_result"
    }
   ],
   "source": [
    "losses"
   ]
  },
  {
   "cell_type": "code",
   "execution_count": 9,
   "metadata": {},
   "outputs": [],
   "source": [
    "losses = [itm.numpy() for itm in losses]\n",
    "\n"
   ]
  },
  {
   "cell_type": "code",
   "execution_count": 10,
   "metadata": {},
   "outputs": [],
   "source": [
    "losses = [itm.flatten()[0] for itm in losses]"
   ]
  },
  {
   "cell_type": "code",
   "execution_count": 11,
   "metadata": {},
   "outputs": [
    {
     "data": {
      "text/plain": [
       "[545.36487,\n",
       " 922.1333,\n",
       " 6856.67,\n",
       " 3074.6614,\n",
       " 4243.512,\n",
       " 10760.1875,\n",
       " 2077.6597,\n",
       " 5307.1074,\n",
       " 10273.419]"
      ]
     },
     "execution_count": 11,
     "metadata": {},
     "output_type": "execute_result"
    }
   ],
   "source": [
    "losses"
   ]
  },
  {
   "cell_type": "code",
   "execution_count": 12,
   "metadata": {},
   "outputs": [
    {
     "data": {
      "text/plain": [
       "4895.635"
      ]
     },
     "execution_count": 12,
     "metadata": {},
     "output_type": "execute_result"
    }
   ],
   "source": [
    "np.mean(losses)"
   ]
  },
  {
   "cell_type": "code",
   "execution_count": 13,
   "metadata": {},
   "outputs": [],
   "source": [
    "target_h = target.cpu().numpy()"
   ]
  },
  {
   "cell_type": "code",
   "execution_count": 14,
   "metadata": {},
   "outputs": [],
   "source": [
    "output_dist_h = output_dist.cpu().numpy()"
   ]
  },
  {
   "cell_type": "code",
   "execution_count": 15,
   "metadata": {},
   "outputs": [
    {
     "data": {
      "text/plain": [
       "array([[  0.       , 377.55682  , 310.34933  , ..., 361.37024  ,\n",
       "        386.07986  , 364.59268  ],\n",
       "       [377.55682  ,   0.       ,  67.46842  , ...,  17.114325 ,\n",
       "         16.939966 ,  14.4482355],\n",
       "       [310.34933  ,  67.46842  ,   0.       , ...,  51.18029  ,\n",
       "         76.28963  ,  55.227383 ],\n",
       "       ...,\n",
       "       [361.37024  ,  17.114325 ,  51.18029  , ...,   0.       ,\n",
       "         26.804914 ,  11.579597 ],\n",
       "       [386.07986  ,  16.939966 ,  76.28963  , ...,  26.804914 ,\n",
       "          0.       ,  28.977686 ],\n",
       "       [364.59268  ,  14.4482355,  55.227383 , ...,  11.579597 ,\n",
       "         28.977686 ,   0.       ]], dtype=float32)"
      ]
     },
     "execution_count": 15,
     "metadata": {},
     "output_type": "execute_result"
    }
   ],
   "source": [
    "output_dist_h"
   ]
  },
  {
   "cell_type": "code",
   "execution_count": 16,
   "metadata": {},
   "outputs": [
    {
     "data": {
      "text/plain": [
       "array([[  0.      , 434.32565 , 504.7121  , ..., 431.77148 , 443.16403 ,\n",
       "        436.50864 ],\n",
       "       [434.32565 ,   0.      ,  75.37461 , ...,  15.628157,  31.538633,\n",
       "         19.261648],\n",
       "       [504.7121  ,  75.37461 ,   0.      , ...,  70.979485,  79.5031  ,\n",
       "         73.44816 ],\n",
       "       ...,\n",
       "       [431.77148 ,  15.628157,  70.979485, ...,   0.      ,  31.478334,\n",
       "         24.414173],\n",
       "       [443.16403 ,  31.538633,  79.5031  , ...,  31.478334,   0.      ,\n",
       "         26.38826 ],\n",
       "       [436.50864 ,  19.261648,  73.44816 , ...,  24.414173,  26.38826 ,\n",
       "          0.      ]], dtype=float32)"
      ]
     },
     "execution_count": 16,
     "metadata": {},
     "output_type": "execute_result"
    }
   ],
   "source": [
    "target_h"
   ]
  },
  {
   "cell_type": "code",
   "execution_count": 17,
   "metadata": {},
   "outputs": [],
   "source": [
    "h1 = target_h.flatten()[np.nonzero(target_h.flatten())]"
   ]
  },
  {
   "cell_type": "code",
   "execution_count": 18,
   "metadata": {},
   "outputs": [],
   "source": [
    "h2 = output_dist_h.flatten()[np.nonzero(output_dist_h.flatten())]"
   ]
  },
  {
   "cell_type": "code",
   "execution_count": 19,
   "metadata": {},
   "outputs": [
    {
     "data": {
      "text/plain": [
       "<matplotlib.legend.Legend at 0x7fccba4aaf50>"
      ]
     },
     "execution_count": 19,
     "metadata": {},
     "output_type": "execute_result"
    },
    {
     "data": {
      "image/png": "[encoded data removed]",
      "text/plain": [
       "<Figure size 432x288 with 1 Axes>"
      ]
     },
     "metadata": {
      "needs_background": "light"
     },
     "output_type": "display_data"
    }
   ],
   "source": [
    "plt.hist([h1,h2],bins=50,range=[0,100],label=['target','output'])\n",
    "plt.legend()"
   ]
  },
  {
   "cell_type": "code",
   "execution_count": 20,
   "metadata": {},
   "outputs": [
    {
     "data": {
      "text/plain": [
       "(array([  66.,   52.,   74.,  102.,  160.,  134.,  170.,  194.,  210.,\n",
       "         258.,  276.,  322.,  414.,  510.,  646.,  758.,  992., 1224.,\n",
       "        1458., 1832., 2286., 2622., 3126., 3650., 4028., 4480., 5086.,\n",
       "        5118., 4946., 4292., 3272., 2666., 1958., 1298.,  804.,  616.,\n",
       "         412.,  284.,  236.,  200.,  114.,   74.,   82.,   78.,   72.,\n",
       "          74.,   72.,   72.,   56.,   60.]),\n",
       " array([-50., -48., -46., -44., -42., -40., -38., -36., -34., -32., -30.,\n",
       "        -28., -26., -24., -22., -20., -18., -16., -14., -12., -10.,  -8.,\n",
       "         -6.,  -4.,  -2.,   0.,   2.,   4.,   6.,   8.,  10.,  12.,  14.,\n",
       "         16.,  18.,  20.,  22.,  24.,  26.,  28.,  30.,  32.,  34.,  36.,\n",
       "         38.,  40.,  42.,  44.,  46.,  48.,  50.], dtype=float32),\n",
       " <a list of 50 Patch objects>)"
      ]
     },
     "execution_count": 20,
     "metadata": {},
     "output_type": "execute_result"
    },
    {
     "data": {
      "image/png": "[encoded data removed]",
      "text/plain": [
       "<Figure size 432x288 with 1 Axes>"
      ]
     },
     "metadata": {
      "needs_background": "light"
     },
     "output_type": "display_data"
    }
   ],
   "source": [
    "plt.hist(h1 - h2, bins=50,range=[-50,50])"
   ]
  },
  {
   "cell_type": "code",
   "execution_count": null,
   "metadata": {},
   "outputs": [],
   "source": []
  }
 ],
 "metadata": {
  "kernelspec": {
   "display_name": "Python 3",
   "language": "python",
   "name": "python3"
  },
  "language_info": {
   "codemirror_mode": {
    "name": "ipython",
    "version": 3
   },
   "file_extension": ".py",
   "mimetype": "text/x-python",
   "name": "python",
   "nbconvert_exporter": "python",
   "pygments_lexer": "ipython3",
   "version": "3.7.7"
  }
 },
 "nbformat": 4,
 "nbformat_minor": 4
}
