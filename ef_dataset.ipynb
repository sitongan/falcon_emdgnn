{
 "cells": [
  {
   "cell_type": "code",
   "execution_count": 1,
   "id": "caring-comedy",
   "metadata": {},
   "outputs": [],
   "source": [
    "%load_ext autoreload\n",
    "%autoreload 2\n",
    "import energyflow as ef\n",
    "import numpy as np\n",
    "import matplotlib.pyplot as plt\n",
    "from sklearn.neighbors import NearestNeighbors\n",
    "from tqdm import tqdm"
   ]
  },
  {
   "cell_type": "code",
   "execution_count": 2,
   "id": "duplicate-fitness",
   "metadata": {},
   "outputs": [],
   "source": [
    "X, y = ef.qg_jets.load(-1, pad=False)"
   ]
  },
  {
   "cell_type": "code",
   "execution_count": 4,
   "id": "textile-mentor",
   "metadata": {},
   "outputs": [
    {
     "name": "stderr",
     "output_type": "stream",
     "text": [
      "1000000it [01:55, 8672.83it/s]\n"
     ]
    }
   ],
   "source": [
    "\n",
    "# the jet radius for these jets\n",
    "R = 0.4\n",
    "\n",
    "# process jets\n",
    "#Gs, Qs = [], []\n",
    "#for arr,events in [(Gs, X[y==0]), (Qs, X[y==1])]:\n",
    "arr = []\n",
    "events = X[y==1]\n",
    "for i,x in tqdm(enumerate(events)):\n",
    "    #if i >= num:\n",
    "    #    break\n",
    "\n",
    "    # ignore padded particles and removed particle id information\n",
    "    x = x[x[:,0] > 0]\n",
    "\n",
    "    # center jet according to pt-centroid\n",
    "    yphi_avg = np.average(x[:,1:3], weights=x[:,0], axis=0)\n",
    "    x[:,1:3] -= yphi_avg\n",
    "\n",
    "    # mask out any particles farther than R=0.4 away from center (rare)\n",
    "    x = x[np.linalg.norm(x[:,1:3], axis=1) <= R]\n",
    "\n",
    "    # add to list\n",
    "    arr.append(x)"
   ]
  },
  {
   "cell_type": "code",
   "execution_count": null,
   "id": "clean-relief",
   "metadata": {},
   "outputs": [],
   "source": []
  },
  {
   "cell_type": "code",
   "execution_count": null,
   "id": "together-lounge",
   "metadata": {},
   "outputs": [],
   "source": []
  },
  {
   "cell_type": "code",
   "execution_count": 7,
   "id": "choice-designer",
   "metadata": {},
   "outputs": [
    {
     "data": {
      "text/plain": [
       "array([[ 3.86938282e-01, -8.96080222e-03],\n",
       "       [-2.25574422e-01, -2.00119039e-01],\n",
       "       [-3.24029049e-02, -2.46494377e-01],\n",
       "       [ 2.03721461e-01,  1.58759565e-02],\n",
       "       [-1.82142653e-01,  4.65234801e-02],\n",
       "       [-2.24429684e-02, -1.74751781e-01],\n",
       "       [-3.75896507e-02, -1.04736224e-01],\n",
       "       [ 7.43042418e-02,  1.56232675e-02],\n",
       "       [ 7.22826387e-02,  4.38392266e-03],\n",
       "       [ 2.03456353e-03, -1.49163178e-02],\n",
       "       [ 6.27023925e-03,  8.56497981e-03],\n",
       "       [ 3.03774117e-03,  9.62635413e-03],\n",
       "       [ 2.80188347e-04,  1.09293218e-02],\n",
       "       [-9.40388912e-03, -8.64861191e-04],\n",
       "       [-6.56828790e-03, -4.15235478e-03],\n",
       "       [-5.40773406e-03,  4.46504544e-03],\n",
       "       [-2.52514112e-03,  5.11039679e-04],\n",
       "       [-3.24119426e-03,  3.97092262e-03]])"
      ]
     },
     "execution_count": 7,
     "metadata": {},
     "output_type": "execute_result"
    }
   ],
   "source": [
    "coords = arr[0][:, 1:3]\n",
    "coords"
   ]
  },
  {
   "cell_type": "code",
   "execution_count": 35,
   "id": "waiting-strip",
   "metadata": {},
   "outputs": [],
   "source": [
    "def construct_edges(X, n_neighbours):\n",
    "    coords = X[:, 1:3]\n",
    "    nbrs = NearestNeighbors(algorithm='kd_tree').fit(coords)\n",
    "    nbrs_sm = nbrs.kneighbors_graph(coords, n_neighbours)\n",
    "    nbrs_sm.setdiag(0) #remove self-loop edges\n",
    "    nbrs_sm.eliminate_zeros()\n",
    "    nbrs_sm = nbrs_sm + nbrs_sm.T\n",
    "    edge_index = np.array(nbrs_sm.nonzero()).astype(np.int64)\n",
    "    return edge_index"
   ]
  },
  {
   "cell_type": "markdown",
   "id": "understanding-welding",
   "metadata": {},
   "source": [
    "## Visualise Single Jet"
   ]
  },
  {
   "cell_type": "code",
   "execution_count": 40,
   "id": "developmental-uzbekistan",
   "metadata": {},
   "outputs": [],
   "source": [
    "n_event = 100\n",
    "ev = arr[n_event]"
   ]
  },
  {
   "cell_type": "code",
   "execution_count": 41,
   "id": "metallic-announcement",
   "metadata": {},
   "outputs": [
    {
     "data": {
      "text/plain": [
       "(32, 4)"
      ]
     },
     "execution_count": 41,
     "metadata": {},
     "output_type": "execute_result"
    }
   ],
   "source": [
    "ev.shape"
   ]
  },
  {
   "cell_type": "code",
   "execution_count": 44,
   "id": "aggressive-remainder",
   "metadata": {},
   "outputs": [
    {
     "data": {
      "text/plain": [
       "array([[ 0,  0,  0,  1,  1,  1,  2,  2,  2,  3,  3,  3,  4,  4,  4,  5,\n",
       "         5,  5,  6,  6,  6,  7,  7,  7,  8,  8,  8,  8,  8,  8,  9,  9,\n",
       "         9,  9, 10, 10, 10, 10, 10, 10, 11, 11, 11, 11, 11, 11, 12, 12,\n",
       "        12, 12, 13, 13, 13, 13, 13, 13, 13, 14, 14, 14, 14, 14, 15, 15,\n",
       "        15, 15, 16, 16, 16, 16, 16, 16, 17, 17, 17, 17, 17, 18, 18, 18,\n",
       "        18, 18, 18, 19, 19, 19, 19, 19, 19, 20, 20, 20, 21, 21, 21, 21,\n",
       "        21, 22, 22, 22, 22, 23, 23, 23, 23, 24, 24, 24, 24, 24, 25, 25,\n",
       "        25, 25, 25, 25, 26, 26, 26, 26, 27, 27, 27, 27, 27, 27, 28, 28,\n",
       "        28, 28, 28, 29, 29, 29, 29, 29, 30, 30, 30, 30, 30, 31, 31, 31,\n",
       "        31, 31],\n",
       "       [10,  3,  2,  8, 13,  4, 10,  3,  0, 10,  2,  0, 13,  8,  1, 11,\n",
       "         9,  8, 16, 12,  7, 16,  6, 14,  9,  4,  1, 13,  5, 11,  5,  8,\n",
       "        11, 10,  3,  2,  0, 11, 17,  9, 10,  9,  5, 13,  8, 17,  6, 18,\n",
       "        16, 15, 11,  8,  4,  1, 31, 24, 14, 13,  7, 27, 28, 24, 12, 19,\n",
       "        18, 16, 12,  7,  6, 18, 19, 15, 11, 10, 31, 22, 23, 16, 15, 12,\n",
       "        19, 25, 21, 18, 16, 15, 21, 25, 26, 25, 21, 22, 19, 18, 26, 20,\n",
       "        25, 17, 30, 23, 20, 17, 22, 30, 31, 14, 13, 27, 29, 28, 20, 19,\n",
       "        18, 27, 26, 21, 21, 19, 25, 27, 25, 24, 14, 26, 28, 29, 24, 14,\n",
       "        30, 27, 29, 31, 24, 30, 28, 27, 28, 22, 29, 23, 31, 17, 13, 29,\n",
       "        23, 30]])"
      ]
     },
     "execution_count": 44,
     "metadata": {},
     "output_type": "execute_result"
    }
   ],
   "source": [
    "ev_edges = construct_edges(ev,4)\n",
    "ev_edges"
   ]
  },
  {
   "cell_type": "code",
   "execution_count": 45,
   "id": "british-illinois",
   "metadata": {},
   "outputs": [
    {
     "data": {
      "image/png": "[encoded data removed]",
      "text/plain": [
       "<Figure size 432x288 with 1 Axes>"
      ]
     },
     "metadata": {
      "needs_background": "light"
     },
     "output_type": "display_data"
    }
   ],
   "source": [
    "pts, ys, phis = ev[:,0], ev[:,1], ev[:,2]\n",
    "plt.scatter(ys, phis, marker='o', s=2*pts, color='red', lw=0, zorder=10)\n",
    "\n",
    "edge_from_ys = ev[:,1][ev_edges[0]]\n",
    "edge_from_phis = ev[:,2][ev_edges[0]]\n",
    "edge_to_ys = ev[:,1][ev_edges[1]]\n",
    "edge_to_phis = ev[:,2][ev_edges[1]]\n",
    "for i in range(edge_from_ys.shape[0]):\n",
    "     plt.plot([edge_from_ys[i], edge_to_ys[i]], [edge_from_phis[i], edge_to_phis[i]], alpha=0.1, lw=1.25, color='black')"
   ]
  },
  {
   "cell_type": "code",
   "execution_count": null,
   "id": "difficult-sixth",
   "metadata": {},
   "outputs": [],
   "source": []
  },
  {
   "cell_type": "code",
   "execution_count": null,
   "id": "minor-edwards",
   "metadata": {},
   "outputs": [],
   "source": []
  }
 ],
 "metadata": {
  "kernelspec": {
   "display_name": "Python 3",
   "language": "python",
   "name": "python3"
  },
  "language_info": {
   "codemirror_mode": {
    "name": "ipython",
    "version": 3
   },
   "file_extension": ".py",
   "mimetype": "text/x-python",
   "name": "python",
   "nbconvert_exporter": "python",
   "pygments_lexer": "ipython3",
   "version": "3.8.8"
  }
 },
 "nbformat": 4,
 "nbformat_minor": 5
}
