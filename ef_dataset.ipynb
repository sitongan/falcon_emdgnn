{
 "cells": [
  {
   "cell_type": "code",
   "execution_count": 1,
   "id": "caring-comedy",
   "metadata": {},
   "outputs": [],
   "source": [
    "%load_ext autoreload\n",
    "%autoreload 2\n",
    "import energyflow as ef\n",
    "import numpy as np\n",
    "import matplotlib.pyplot as plt\n",
    "from sklearn.neighbors import NearestNeighbors\n",
    "from sklearn.neighbors import KDTree\n",
    "from tqdm import tqdm\n",
    "import torch\n",
    "from torch_geometric.data import Data\n",
    "import os.path as osp"
   ]
  },
  {
   "cell_type": "code",
   "execution_count": 2,
   "id": "everyday-disorder",
   "metadata": {},
   "outputs": [],
   "source": [
    "X, y = ef.qg_jets.load(-1, pad=False)"
   ]
  },
  {
   "cell_type": "code",
   "execution_count": 3,
   "id": "white-excitement",
   "metadata": {},
   "outputs": [
    {
     "name": "stderr",
     "output_type": "stream",
     "text": [
      "1000000it [01:32, 10825.58it/s]\n"
     ]
    }
   ],
   "source": [
    "\n",
    "# the jet radius for these jets\n",
    "R = 0.4\n",
    "\n",
    "# process jets\n",
    "#Gs, Qs = [], []\n",
    "#for arr,events in [(Gs, X[y==0]), (Qs, X[y==1])]:\n",
    "arr = []\n",
    "events = X[y==1]\n",
    "for i,x in tqdm(enumerate(events)):\n",
    "    #if i >= num:\n",
    "    #    break\n",
    "\n",
    "    # ignore padded particles and removed particle id information\n",
    "    x = x[x[:,0] > 0]\n",
    "\n",
    "    # center jet according to pt-centroid\n",
    "    yphi_avg = np.average(x[:,1:3], weights=x[:,0], axis=0)\n",
    "    x[:,1:3] -= yphi_avg\n",
    "\n",
    "    # mask out any particles farther than R=0.4 away from center (rare)\n",
    "    x = x[np.linalg.norm(x[:,1:3], axis=1) <= R]\n",
    "\n",
    "    # add to list\n",
    "    arr.append(x)"
   ]
  },
  {
   "cell_type": "code",
   "execution_count": null,
   "id": "varied-mercy",
   "metadata": {},
   "outputs": [],
   "source": []
  },
  {
   "cell_type": "code",
   "execution_count": 4,
   "id": "forward-freedom",
   "metadata": {},
   "outputs": [],
   "source": [
    "total_jets = len(arr)"
   ]
  },
  {
   "cell_type": "code",
   "execution_count": 5,
   "id": "choice-designer",
   "metadata": {},
   "outputs": [
    {
     "data": {
      "text/plain": [
       "array([[ 3.86938282e-01, -8.96080222e-03],\n",
       "       [-2.25574422e-01, -2.00119039e-01],\n",
       "       [-3.24029049e-02, -2.46494377e-01],\n",
       "       [ 2.03721461e-01,  1.58759565e-02],\n",
       "       [-1.82142653e-01,  4.65234801e-02],\n",
       "       [-2.24429684e-02, -1.74751781e-01],\n",
       "       [-3.75896507e-02, -1.04736224e-01],\n",
       "       [ 7.43042418e-02,  1.56232675e-02],\n",
       "       [ 7.22826387e-02,  4.38392266e-03],\n",
       "       [ 2.03456353e-03, -1.49163178e-02],\n",
       "       [ 6.27023925e-03,  8.56497981e-03],\n",
       "       [ 3.03774117e-03,  9.62635413e-03],\n",
       "       [ 2.80188347e-04,  1.09293218e-02],\n",
       "       [-9.40388912e-03, -8.64861191e-04],\n",
       "       [-6.56828790e-03, -4.15235478e-03],\n",
       "       [-5.40773406e-03,  4.46504544e-03],\n",
       "       [-2.52514112e-03,  5.11039679e-04],\n",
       "       [-3.24119426e-03,  3.97092262e-03]])"
      ]
     },
     "execution_count": 5,
     "metadata": {},
     "output_type": "execute_result"
    }
   ],
   "source": [
    "coords = arr[0][:, 1:3]\n",
    "coords"
   ]
  },
  {
   "cell_type": "code",
   "execution_count": 6,
   "id": "waiting-strip",
   "metadata": {},
   "outputs": [],
   "source": [
    "def construct_edges_NN(X, n_neighbours):\n",
    "    coords = X[:, 1:3]\n",
    "    nbrs = NearestNeighbors(algorithm='kd_tree').fit(coords)\n",
    "    if n_neighbours > coords.shape[0]: n_neighbours = coords.shape[0]\n",
    "    nbrs_sm = nbrs.kneighbors_graph(coords, n_neighbours)\n",
    "    nbrs_sm.setdiag(0) #remove self-loop edges\n",
    "    nbrs_sm.eliminate_zeros()\n",
    "    nbrs_sm = nbrs_sm + nbrs_sm.T\n",
    "    edge_index = np.array(nbrs_sm.nonzero()).astype(np.int64)\n",
    "    return edge_index"
   ]
  },
  {
   "cell_type": "code",
   "execution_count": 7,
   "id": "grand-sponsorship",
   "metadata": {},
   "outputs": [],
   "source": [
    "def construct_edges_R(X, R):\n",
    "    coords = X[:, 0:3]\n",
    "    tree = KDTree(coords) \n",
    "    nbrs = tree.query_radius(coords, R)\n",
    "    ls, lt = [], []\n",
    "    for s in range(len(nbrs)):\n",
    "        for t in range(len(nbrs[s])):\n",
    "            ls.append(s)\n",
    "            lt.append(nbrs[s][t])\n",
    "    edge_index = np.array([ls,lt])\n",
    "    return edge_index   "
   ]
  },
  {
   "cell_type": "markdown",
   "id": "aggressive-peace",
   "metadata": {},
   "source": [
    "## Visualise Single Jet"
   ]
  },
  {
   "cell_type": "code",
   "execution_count": 8,
   "id": "original-mathematics",
   "metadata": {},
   "outputs": [
    {
     "data": {
      "text/plain": [
       "array([[ 2.68769142e-01,  3.86938282e-01, -8.96080222e-03],\n",
       "       [ 1.60076377e-01, -2.25574422e-01, -2.00119039e-01],\n",
       "       [ 1.14868731e+00, -3.24029049e-02, -2.46494377e-01],\n",
       "       [ 4.13159146e+00,  2.03721461e-01,  1.58759565e-02],\n",
       "       [ 1.69599701e+00, -1.82142653e-01,  4.65234801e-02],\n",
       "       [ 2.19372581e+00, -2.24429684e-02, -1.74751781e-01],\n",
       "       [ 1.61909680e+00, -3.75896507e-02, -1.04736224e-01],\n",
       "       [ 6.59214883e+00,  7.43042418e-02,  1.56232675e-02],\n",
       "       [ 3.77096258e+00,  7.22826387e-02,  4.38392266e-03],\n",
       "       [ 1.34816345e+01,  2.03456353e-03, -1.49163178e-02],\n",
       "       [ 4.10794493e+00,  6.27023925e-03,  8.56497981e-03],\n",
       "       [ 2.16455176e+01,  3.03774117e-03,  9.62635413e-03],\n",
       "       [ 6.77551168e+00,  2.80188347e-04,  1.09293218e-02],\n",
       "       [ 1.32550803e+01, -9.40388912e-03, -8.64861191e-04],\n",
       "       [ 2.98350842e+00, -6.56828790e-03, -4.15235478e-03],\n",
       "       [ 3.73743866e+01, -5.40773406e-03,  4.46504544e-03],\n",
       "       [ 3.35399046e+02, -2.52514112e-03,  5.11039679e-04],\n",
       "       [ 4.42135649e+01, -3.24119426e-03,  3.97092262e-03]])"
      ]
     },
     "execution_count": 8,
     "metadata": {},
     "output_type": "execute_result"
    }
   ],
   "source": [
    "arr[0][:,0:3]"
   ]
  },
  {
   "cell_type": "code",
   "execution_count": 9,
   "id": "sexual-endorsement",
   "metadata": {},
   "outputs": [],
   "source": [
    "n_event = 30416\n",
    "ev = arr[n_event]"
   ]
  },
  {
   "cell_type": "code",
   "execution_count": 10,
   "id": "median-zoning",
   "metadata": {},
   "outputs": [
    {
     "data": {
      "text/plain": [
       "(2, 4)"
      ]
     },
     "execution_count": 10,
     "metadata": {},
     "output_type": "execute_result"
    }
   ],
   "source": [
    "ev.shape #（n_components,[pt,y,phi,PID]）"
   ]
  },
  {
   "cell_type": "code",
   "execution_count": 11,
   "id": "aggressive-remainder",
   "metadata": {},
   "outputs": [
    {
     "data": {
      "text/plain": [
       "array([[0, 1],\n",
       "       [1, 0]])"
      ]
     },
     "execution_count": 11,
     "metadata": {},
     "output_type": "execute_result"
    }
   ],
   "source": [
    "ev_edges = construct_edges_NN(ev,5)\n",
    "#ev_edges = construct_edges_R(ev, 0.5)\n",
    "ev_edges"
   ]
  },
  {
   "cell_type": "code",
   "execution_count": 12,
   "id": "banned-breach",
   "metadata": {},
   "outputs": [
    {
     "data": {
      "image/png": "[encoded data removed]",
      "text/plain": [
       "<Figure size 432x288 with 1 Axes>"
      ]
     },
     "metadata": {
      "needs_background": "light"
     },
     "output_type": "display_data"
    }
   ],
   "source": [
    "pts, ys, phis = ev[:,0], ev[:,1], ev[:,2]\n",
    "plt.scatter(ys, phis, marker='o', s=2*pts, color='red', lw=0, zorder=10)\n",
    "\n",
    "edge_from_ys = ev[:,1][ev_edges[0]]\n",
    "edge_from_phis = ev[:,2][ev_edges[0]]\n",
    "edge_to_ys = ev[:,1][ev_edges[1]]\n",
    "edge_to_phis = ev[:,2][ev_edges[1]]\n",
    "for i in range(edge_from_ys.shape[0]):\n",
    "     plt.plot([edge_from_ys[i], edge_to_ys[i]], [edge_from_phis[i], edge_to_phis[i]], alpha=0.1, lw=1.25, color='black')"
   ]
  },
  {
   "cell_type": "markdown",
   "id": "interesting-atlas",
   "metadata": {},
   "source": [
    "## Data Production"
   ]
  },
  {
   "cell_type": "code",
   "execution_count": 13,
   "id": "great-transmission",
   "metadata": {},
   "outputs": [
    {
     "name": "stderr",
     "output_type": "stream",
     "text": [
      "100%|██████████| 1000000/1000000 [34:50<00:00, 478.31it/s] \n"
     ]
    }
   ],
   "source": [
    "for jet_idx in tqdm(range(total_jets)):\n",
    "    X = arr[jet_idx].astype('float32')\n",
    "    edge_index = construct_edges_NN(X, 5)\n",
    "    outdata = Data(x=torch.from_numpy(X),edge_index=torch.from_numpy(edge_index))\n",
    "    torch.save(outdata, osp.join(\"data/processed\", 'data_{}.pt'.format(jet_idx)))"
   ]
  },
  {
   "cell_type": "markdown",
   "id": "perceived-minority",
   "metadata": {},
   "source": [
    "## Verification"
   ]
  },
  {
   "cell_type": "code",
   "execution_count": null,
   "id": "foreign-melissa",
   "metadata": {},
   "outputs": [],
   "source": []
  },
  {
   "cell_type": "code",
   "execution_count": 14,
   "id": "verbal-return",
   "metadata": {},
   "outputs": [
    {
     "data": {
      "text/plain": [
       "FalconDataset(1000000)"
      ]
     },
     "execution_count": 14,
     "metadata": {},
     "output_type": "execute_result"
    }
   ],
   "source": [
    "from dataset import  FalconDataset\n",
    "dataset = FalconDataset('')\n",
    "dataset"
   ]
  },
  {
   "cell_type": "code",
   "execution_count": 15,
   "id": "revised-voluntary",
   "metadata": {},
   "outputs": [],
   "source": [
    "from torch_geometric.data import DataLoader\n",
    "train_loader = DataLoader(dataset, batch_size=1)"
   ]
  },
  {
   "cell_type": "code",
   "execution_count": 16,
   "id": "aggressive-electronics",
   "metadata": {},
   "outputs": [],
   "source": [
    "a = dataset[0]"
   ]
  },
  {
   "cell_type": "code",
   "execution_count": 17,
   "id": "understanding-latino",
   "metadata": {},
   "outputs": [
    {
     "data": {
      "text/plain": [
       "Data(edge_index=[2, 108], x=[18, 4])"
      ]
     },
     "execution_count": 17,
     "metadata": {},
     "output_type": "execute_result"
    }
   ],
   "source": [
    "a"
   ]
  },
  {
   "cell_type": "code",
   "execution_count": 18,
   "id": "liquid-corner",
   "metadata": {},
   "outputs": [],
   "source": [
    "b = dataset[100]"
   ]
  },
  {
   "cell_type": "code",
   "execution_count": 19,
   "id": "insured-hardware",
   "metadata": {},
   "outputs": [
    {
     "data": {
      "text/plain": [
       "Data(edge_index=[2, 196], x=[32, 4])"
      ]
     },
     "execution_count": 19,
     "metadata": {},
     "output_type": "execute_result"
    }
   ],
   "source": [
    "b"
   ]
  },
  {
   "cell_type": "code",
   "execution_count": 56,
   "id": "quick-assembly",
   "metadata": {},
   "outputs": [
    {
     "data": {
      "text/plain": [
       "50.06341457266163"
      ]
     },
     "execution_count": 56,
     "metadata": {},
     "output_type": "execute_result"
    }
   ],
   "source": [
    "ef.emd.emd(a.x[:,:3], b.x[:,:3])"
   ]
  },
  {
   "cell_type": "code",
   "execution_count": null,
   "id": "divine-composite",
   "metadata": {},
   "outputs": [],
   "source": []
  }
 ],
 "metadata": {
  "kernelspec": {
   "display_name": "Python 3",
   "language": "python",
   "name": "python3"
  },
  "language_info": {
   "codemirror_mode": {
    "name": "ipython",
    "version": 3
   },
   "file_extension": ".py",
   "mimetype": "text/x-python",
   "name": "python",
   "nbconvert_exporter": "python",
   "pygments_lexer": "ipython3",
   "version": "3.8.8"
  }
 },
 "nbformat": 4,
 "nbformat_minor": 5
}
