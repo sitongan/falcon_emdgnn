{
 "cells": [
  {
   "cell_type": "code",
   "execution_count": 1,
   "id": "burning-amber",
   "metadata": {},
   "outputs": [],
   "source": [
    "%load_ext autoreload\n",
    "%autoreload 2\n",
    "import energyflow as ef\n",
    "import numpy as np\n",
    "import matplotlib.pyplot as plt\n",
    "from tqdm import tqdm\n",
    "import torch\n",
    "from torch_geometric.data import Data\n",
    "from torch_geometric.data import DataLoader\n",
    "import os.path as osp\n",
    "from dataset import  FalconDataset\n",
    "from edgenet import EdgeNet\n",
    "from scipy.stats import norm"
   ]
  },
  {
   "cell_type": "code",
   "execution_count": 2,
   "id": "thick-water",
   "metadata": {},
   "outputs": [],
   "source": [
    "batch_size = 32\n",
    "load_model = 'final_epoch_240.pt'"
   ]
  },
  {
   "cell_type": "code",
   "execution_count": 3,
   "id": "literary-survival",
   "metadata": {},
   "outputs": [],
   "source": [
    "device = torch.device('cuda:2')\n",
    "kwargs = {'num_workers': 1, 'pin_memory': True}\n",
    "dataset = FalconDataset('')[:64000]\n",
    "test_loader = DataLoader(dataset,batch_size=batch_size, shuffle=True, drop_last=True, **kwargs)\n",
    "model = EdgeNet().to(device)"
   ]
  },
  {
   "cell_type": "code",
   "execution_count": 4,
   "id": "strange-shore",
   "metadata": {},
   "outputs": [],
   "source": [
    "checkpoint = torch.load(load_model, map_location='cpu')\n",
    "model.load_state_dict(checkpoint)\n",
    "del checkpoint\n",
    "torch.cuda.empty_cache()"
   ]
  },
  {
   "cell_type": "code",
   "execution_count": 5,
   "id": "automatic-palestinian",
   "metadata": {},
   "outputs": [],
   "source": [
    "def preprocess_emd(torch_batch):\n",
    "    batch_size = torch_batch.batch[-1] + 1\n",
    "    ret = []\n",
    "    for batch_idx in range(batch_size):\n",
    "        ret.append(torch_batch.x[torch_batch.batch == batch_idx][:,:3].cpu().detach().numpy())\n",
    "    return ret"
   ]
  },
  {
   "cell_type": "code",
   "execution_count": null,
   "id": "extraordinary-bahrain",
   "metadata": {},
   "outputs": [],
   "source": []
  },
  {
   "cell_type": "markdown",
   "id": "expanded-point",
   "metadata": {},
   "source": [
    "import torch.nn.functional as F"
   ]
  },
  {
   "cell_type": "markdown",
   "id": "coastal-internship",
   "metadata": {},
   "source": [
    "\n",
    "data = single.to(device)\n",
    "with torch.no_grad():\n",
    "    output = model(data)\n",
    "\n",
    "nodes_list = preprocess_emd(single)\n",
    "target = torch.from_numpy(ef.emd.emds(nodes_list, R=1.0)).float().to(device)\n",
    "output_dist = torch.cdist(output, output, p=2.0)\n",
    "\n",
    "loss = F.mse_loss(output_dist, target)"
   ]
  },
  {
   "cell_type": "code",
   "execution_count": 6,
   "id": "relevant-ribbon",
   "metadata": {},
   "outputs": [],
   "source": [
    "it = iter(test_loader)\n",
    "total_loss = []"
   ]
  },
  {
   "cell_type": "code",
   "execution_count": null,
   "id": "greenhouse-revolution",
   "metadata": {},
   "outputs": [],
   "source": []
  },
  {
   "cell_type": "code",
   "execution_count": null,
   "id": "champion-telephone",
   "metadata": {},
   "outputs": [],
   "source": []
  },
  {
   "cell_type": "code",
   "execution_count": null,
   "id": "particular-capture",
   "metadata": {},
   "outputs": [],
   "source": []
  },
  {
   "cell_type": "code",
   "execution_count": 26,
   "id": "three-insert",
   "metadata": {},
   "outputs": [
    {
     "data": {
      "text/plain": [
       "9964"
      ]
     },
     "execution_count": 26,
     "metadata": {},
     "output_type": "execute_result"
    },
    {
     "data": {
      "image/png": "[encoded data removed]",
      "text/plain": [
       "<Figure size 432x288 with 1 Axes>"
      ]
     },
     "metadata": {
      "needs_background": "light"
     },
     "output_type": "display_data"
    }
   ],
   "source": [
    "single = next(it)\n",
    "\n",
    "single\n",
    "\n",
    "a = preprocess_emd(single)\n",
    "target = ef.emd.emds(a, R=1.0)\n",
    "target\n",
    "\n",
    "\n",
    "\n",
    "data = single.to(device)\n",
    "with torch.no_grad():\n",
    "    output = model(data)\n",
    "\n",
    "output_dist = torch.cdist(output, output, p=2.0)\n",
    "\n",
    "pred = output_dist.detach().cpu().numpy()\n",
    "\n",
    "np.set_printoptions(suppress=True)\n",
    "pred\n",
    "\n",
    "loss = (pred - target)\n",
    "loss\n",
    "\n",
    "loss = np.unique(loss.flatten())\n",
    "total_loss.append(loss)\n",
    "plt.hist(loss, bins=50)\n",
    "\n",
    "tested_events = np.concatenate(total_loss).shape[0]\n",
    "tested_events"
   ]
  },
  {
   "cell_type": "code",
   "execution_count": 27,
   "id": "aging-peripheral",
   "metadata": {},
   "outputs": [
    {
     "data": {
      "image/png": "[encoded data removed]",
      "text/plain": [
       "<Figure size 432x288 with 1 Axes>"
      ]
     },
     "metadata": {
      "needs_background": "light"
     },
     "output_type": "display_data"
    }
   ],
   "source": [
    "\n",
    "mu, std = norm.fit(np.concatenate(total_loss))\n",
    "a = plt.hist(np.concatenate(total_loss), bins=50, density=True)\n",
    "xmin, xmax = plt.xlim()\n",
    "x = np.linspace(xmin, xmax, 100)\n",
    "p = norm.pdf(x, mu, std) \n",
    "plt.plot(x, p, 'k', linewidth=2)\n",
    "plt.show()"
   ]
  },
  {
   "cell_type": "code",
   "execution_count": 28,
   "id": "amino-arena",
   "metadata": {},
   "outputs": [
    {
     "data": {
      "text/plain": [
       "-1.2532411019459366"
      ]
     },
     "execution_count": 28,
     "metadata": {},
     "output_type": "execute_result"
    }
   ],
   "source": [
    "mu"
   ]
  },
  {
   "cell_type": "code",
   "execution_count": 29,
   "id": "naughty-literacy",
   "metadata": {},
   "outputs": [
    {
     "data": {
      "text/plain": [
       "15.861901140655425"
      ]
     },
     "execution_count": 29,
     "metadata": {},
     "output_type": "execute_result"
    }
   ],
   "source": [
    "std"
   ]
  },
  {
   "cell_type": "code",
   "execution_count": null,
   "id": "supported-closure",
   "metadata": {},
   "outputs": [],
   "source": []
  }
 ],
 "metadata": {
  "kernelspec": {
   "display_name": "Python 3",
   "language": "python",
   "name": "python3"
  },
  "language_info": {
   "codemirror_mode": {
    "name": "ipython",
    "version": 3
   },
   "file_extension": ".py",
   "mimetype": "text/x-python",
   "name": "python",
   "nbconvert_exporter": "python",
   "pygments_lexer": "ipython3",
   "version": "3.8.8"
  }
 },
 "nbformat": 4,
 "nbformat_minor": 5
}
