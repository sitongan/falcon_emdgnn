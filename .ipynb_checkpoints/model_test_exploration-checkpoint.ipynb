{
 "cells": [
  {
   "cell_type": "code",
   "execution_count": 1,
   "id": "burning-amber",
   "metadata": {},
   "outputs": [],
   "source": [
    "%load_ext autoreload\n",
    "%autoreload 2\n",
    "import energyflow as ef\n",
    "import numpy as np\n",
    "import matplotlib.pyplot as plt\n",
    "from tqdm import tqdm\n",
    "import torch\n",
    "from torch_geometric.data import Data\n",
    "from torch_geometric.data import DataLoader\n",
    "import os.path as osp\n",
    "from dataset import  FalconDataset\n",
    "from edgenet import EdgeNet"
   ]
  },
  {
   "cell_type": "code",
   "execution_count": 2,
   "id": "thick-water",
   "metadata": {},
   "outputs": [],
   "source": [
    "batch_size = 32\n",
    "load_model = 'mnist_cnn.pt'"
   ]
  },
  {
   "cell_type": "code",
   "execution_count": 3,
   "id": "literary-survival",
   "metadata": {},
   "outputs": [],
   "source": [
    "device = torch.device('cuda:2')\n",
    "kwargs = {'num_workers': 1, 'pin_memory': True}\n",
    "dataset = FalconDataset('')[:64000]\n",
    "test_loader = DataLoader(dataset,batch_size=batch_size, shuffle=True, drop_last=True, **kwargs)\n",
    "model = EdgeNet().to(device)"
   ]
  },
  {
   "cell_type": "code",
   "execution_count": 4,
   "id": "strange-shore",
   "metadata": {},
   "outputs": [],
   "source": [
    "checkpoint = torch.load(load_model, map_location='cpu')\n",
    "model.load_state_dict(checkpoint)\n",
    "del checkpoint\n",
    "torch.cuda.empty_cache()"
   ]
  },
  {
   "cell_type": "code",
   "execution_count": 5,
   "id": "automatic-palestinian",
   "metadata": {},
   "outputs": [],
   "source": [
    "def preprocess_emd(torch_batch):\n",
    "    batch_size = torch_batch.batch[-1] + 1\n",
    "    ret = []\n",
    "    for batch_idx in range(batch_size):\n",
    "        ret.append(torch_batch.x[torch_batch.batch == batch_idx][:,:3].cpu().detach().numpy())\n",
    "    return ret"
   ]
  },
  {
   "cell_type": "code",
   "execution_count": null,
   "id": "extraordinary-bahrain",
   "metadata": {},
   "outputs": [],
   "source": []
  },
  {
   "cell_type": "code",
   "execution_count": 19,
   "id": "crude-replication",
   "metadata": {},
   "outputs": [],
   "source": [
    "import torch.nn.functional as F"
   ]
  },
  {
   "cell_type": "code",
   "execution_count": 20,
   "id": "curious-israeli",
   "metadata": {},
   "outputs": [],
   "source": [
    "\n",
    "data = single.to(device)\n",
    "with torch.no_grad():\n",
    "    output = model(data)\n",
    "\n",
    "nodes_list = preprocess_emd(single)\n",
    "target = torch.from_numpy(ef.emd.emds(nodes_list, R=1.0)).float().to(device)\n",
    "output_dist = torch.cdist(output, output, p=2.0)\n",
    "\n",
    "loss = F.mse_loss(output_dist, target)"
   ]
  },
  {
   "cell_type": "code",
   "execution_count": null,
   "id": "relevant-ribbon",
   "metadata": {},
   "outputs": [],
   "source": []
  },
  {
   "cell_type": "code",
   "execution_count": 25,
   "id": "three-insert",
   "metadata": {},
   "outputs": [],
   "source": [
    "single = next(iter(test_loader))"
   ]
  },
  {
   "cell_type": "code",
   "execution_count": 26,
   "id": "indirect-concentration",
   "metadata": {},
   "outputs": [
    {
     "data": {
      "text/plain": [
       "array([[ 0.        , 29.19003125, 13.98675516, ..., 26.15049905,\n",
       "        25.41140691, 74.33512154],\n",
       "       [29.19003125,  0.        , 35.35175885, ..., 44.12778664,\n",
       "        46.00471803, 81.01676611],\n",
       "       [13.98675516, 35.35175885,  0.        , ..., 31.88076948,\n",
       "        16.62257774, 75.63332916],\n",
       "       ...,\n",
       "       [26.15049905, 44.12778664, 31.88076948, ...,  0.        ,\n",
       "        44.00139332, 86.45368119],\n",
       "       [25.41140691, 46.00471803, 16.62257774, ..., 44.00139332,\n",
       "         0.        , 78.16345009],\n",
       "       [74.33512154, 81.01676611, 75.63332916, ..., 86.45368119,\n",
       "        78.16345009,  0.        ]])"
      ]
     },
     "execution_count": 26,
     "metadata": {},
     "output_type": "execute_result"
    }
   ],
   "source": [
    "a = preprocess_emd(single)\n",
    "target = ef.emd.emds(a, R=1.0)\n",
    "target"
   ]
  },
  {
   "cell_type": "code",
   "execution_count": null,
   "id": "swedish-durham",
   "metadata": {},
   "outputs": [],
   "source": []
  },
  {
   "cell_type": "code",
   "execution_count": 8,
   "id": "utility-scene",
   "metadata": {},
   "outputs": [],
   "source": [
    "data = single.to(device)\n",
    "with torch.no_grad():\n",
    "    output = model(data)"
   ]
  },
  {
   "cell_type": "code",
   "execution_count": 9,
   "id": "designing-carbon",
   "metadata": {},
   "outputs": [],
   "source": [
    "output_dist = torch.cdist(output, output, p=2.0)"
   ]
  },
  {
   "cell_type": "code",
   "execution_count": 10,
   "id": "distinguished-track",
   "metadata": {},
   "outputs": [],
   "source": [
    "pred = output_dist.detach().cpu().numpy()"
   ]
  },
  {
   "cell_type": "code",
   "execution_count": 11,
   "id": "muslim-steal",
   "metadata": {},
   "outputs": [
    {
     "data": {
      "text/plain": [
       "array([[0.        , 0.70706093, 1.300298  , ..., 0.43307877, 4.278053  ,\n",
       "        1.9602878 ],\n",
       "       [0.70706093, 0.        , 1.6388122 , ..., 0.7473479 , 4.4145017 ,\n",
       "        1.9065483 ],\n",
       "       [1.300298  , 1.6388122 , 0.        , ..., 1.7231138 , 5.4852214 ,\n",
       "        3.2585084 ],\n",
       "       ...,\n",
       "       [0.43307877, 0.7473479 , 1.7231138 , ..., 0.        , 3.900141  ,\n",
       "        1.5438434 ],\n",
       "       [4.278053  , 4.4145017 , 5.4852214 , ..., 3.900141  , 0.        ,\n",
       "        2.5842693 ],\n",
       "       [1.9602878 , 1.9065483 , 3.2585084 , ..., 1.5438434 , 2.5842693 ,\n",
       "        0.        ]], dtype=float32)"
      ]
     },
     "execution_count": 11,
     "metadata": {},
     "output_type": "execute_result"
    }
   ],
   "source": [
    "pred"
   ]
  },
  {
   "cell_type": "code",
   "execution_count": 12,
   "id": "eligible-alpha",
   "metadata": {},
   "outputs": [
    {
     "data": {
      "text/plain": [
       "array([[  0.        , -60.22660388, -49.47358559, ..., -66.04259456,\n",
       "        -25.85896048, -25.81206353],\n",
       "       [-60.22660388,   0.        , -89.66863245, ..., -33.09794632,\n",
       "        -42.22055304, -41.90949306],\n",
       "       [-49.47358559, -89.66863245,   0.        , ..., -90.35592921,\n",
       "        -54.01652276, -53.60824786],\n",
       "       ...,\n",
       "       [-66.04259456, -33.09794632, -90.35592921, ...,   0.        ,\n",
       "        -46.28880463, -50.56886602],\n",
       "       [-25.85896048, -42.22055304, -54.01652276, ..., -46.28880463,\n",
       "          0.        ,  -7.44287927],\n",
       "       [-25.81206353, -41.90949306, -53.60824786, ..., -50.56886602,\n",
       "         -7.44287927,   0.        ]])"
      ]
     },
     "execution_count": 12,
     "metadata": {},
     "output_type": "execute_result"
    }
   ],
   "source": [
    "loss = (pred - target)\n",
    "loss"
   ]
  },
  {
   "cell_type": "code",
   "execution_count": null,
   "id": "martial-sheffield",
   "metadata": {},
   "outputs": [],
   "source": []
  },
  {
   "cell_type": "code",
   "execution_count": 13,
   "id": "greek-relevance",
   "metadata": {},
   "outputs": [
    {
     "data": {
      "text/plain": [
       "(array([ 2.,  0.,  0.,  6.,  8.,  6.,  4., 10.,  8.,  8.,  8.,  6., 20.,\n",
       "        12., 12.,  2., 16.,  6., 26., 18., 42., 30., 34., 18., 18., 24.,\n",
       "        16., 20., 44., 34., 42., 30., 32., 34., 54., 32., 58., 28., 42.,\n",
       "        36., 28., 24., 24., 16., 20., 20.,  8.,  0.,  4., 34.]),\n",
       " array([-99.8891465 , -97.86397724, -95.83880798, -93.81363872,\n",
       "        -91.78846946, -89.76330019, -87.73813093, -85.71296167,\n",
       "        -83.68779241, -81.66262315, -79.63745389, -77.61228463,\n",
       "        -75.58711536, -73.5619461 , -71.53677684, -69.51160758,\n",
       "        -67.48643832, -65.46126906, -63.4360998 , -61.41093053,\n",
       "        -59.38576127, -57.36059201, -55.33542275, -53.31025349,\n",
       "        -51.28508423, -49.25991497, -47.2347457 , -45.20957644,\n",
       "        -43.18440718, -41.15923792, -39.13406866, -37.1088994 ,\n",
       "        -35.08373014, -33.05856087, -31.03339161, -29.00822235,\n",
       "        -26.98305309, -24.95788383, -22.93271457, -20.90754531,\n",
       "        -18.88237604, -16.85720678, -14.83203752, -12.80686826,\n",
       "        -10.781699  ,  -8.75652974,  -6.73136048,  -4.70619121,\n",
       "         -2.68102195,  -0.65585269,   1.36931657]),\n",
       " <BarContainer object of 50 artists>)"
      ]
     },
     "execution_count": 13,
     "metadata": {},
     "output_type": "execute_result"
    },
    {
     "data": {
      "image/png": "[encoded data removed]",
      "text/plain": [
       "<Figure size 432x288 with 1 Axes>"
      ]
     },
     "metadata": {
      "needs_background": "light"
     },
     "output_type": "display_data"
    }
   ],
   "source": [
    "loss = loss.flatten()\n",
    "plt.hist(loss, bins=50)"
   ]
  },
  {
   "cell_type": "code",
   "execution_count": null,
   "id": "endangered-helicopter",
   "metadata": {},
   "outputs": [],
   "source": []
  }
 ],
 "metadata": {
  "kernelspec": {
   "display_name": "Python 3",
   "language": "python",
   "name": "python3"
  },
  "language_info": {
   "codemirror_mode": {
    "name": "ipython",
    "version": 3
   },
   "file_extension": ".py",
   "mimetype": "text/x-python",
   "name": "python",
   "nbconvert_exporter": "python",
   "pygments_lexer": "ipython3",
   "version": "3.8.8"
  }
 },
 "nbformat": 4,
 "nbformat_minor": 5
}
